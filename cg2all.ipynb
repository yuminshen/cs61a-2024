{
  "cells": [
    {
      "cell_type": "markdown",
      "metadata": {
        "id": "view-in-github",
        "colab_type": "text"
      },
      "source": [
        "<a href=\"https://colab.research.google.com/github/yuminshen/cs61a-2024/blob/main/cg2all.ipynb\" target=\"_parent\"><img src=\"https://colab.research.google.com/assets/colab-badge.svg\" alt=\"Open In Colab\"/></a>"
      ]
    },
    {
      "cell_type": "markdown",
      "metadata": {
        "id": "FBOi_bUBW5dR"
      },
      "source": [
        "\n",
        "# List of tasks\n",
        "- Task 1: Conversion of an all-atom structure to a CG model using __convert_all2cg__\n",
        "- Task 2: Conversion of a CG model to an all-atom structure using __convert_cg2all__\n",
        "- Task 3: Conversion of a CG simulation trajectory to an atomistic simulation trajectory using __convert_cg2all__\n",
        "\n",
        "# Supported coarse-grained models\n",
        "- CalphaBasedModel: C$\\alpha$-trace (atom names should be \"CA\")\n",
        "- ResidueBasedModel: Residue center-of-mass (atom names should be \"CA\")\n",
        "- SidechainModel: A bead at the sidechain center-of-mass (atom names should be \"SC\")\n",
        "- CalphaCMModel: C$\\alpha$-trace + Residue center-of-mass (atom names should be \"CA\" and \"CM\")\n",
        "- CalphaSCModel: C$\\alpha$-trace + Sidechain center-of-mass (atom names should be \"CA\" and \"SC\")\n",
        "- BackboneModel: Model only with backbone atoms (N, CA, C)\n",
        "- MainchainModel: Model only with mainchain atoms (N, CA, C, O)\n",
        "- Martini: [Martini](http://cgmartini.nl/) model\n",
        "- Martini3: [Martini3](http://www.cgmartini.nl/index.php/martini-3-0) model\n",
        "- PRIMO: [PRIMO](http://dx.doi.org/10.1002/prot.22645) model\n",
        "---"
      ]
    },
    {
      "cell_type": "code",
      "execution_count": 1,
      "metadata": {
        "id": "pmJA_J_IlU7s",
        "colab": {
          "base_uri": "https://localhost:8080/"
        },
        "outputId": "1f3547d9-c83a-4e67-bbd2-9bf313e36e55"
      },
      "outputs": [
        {
          "output_type": "stream",
          "name": "stdout",
          "text": [
            "This notebook is running on a GPU runtime.\n"
          ]
        }
      ],
      "source": [
        "#@title Install cg2all package (takes 4-5 minutes)\n",
        "%%bash\n",
        "\n",
        "gpu_available=$(nvidia-smi | grep \"CUDA Version\" | wc -l)\n",
        "if [[ $gpu_available == 1 ]]; then\n",
        "    echo \"This notebook is running on a GPU runtime.\"\n",
        "    pip install  dgl -f https://data.dgl.ai/wheels/torch-2.3/cu121/repo.html &> /dev/null\n",
        "    #pip install dgl -f https://data.dgl.ai/wheels/cu116/repo.html &> /dev/null\n",
        "else\n",
        "    echo \"This notebook is running on a CPU runtime.\"\n",
        "fi\n",
        "\n",
        "pip install -q git+http://github.com/huhlim/cg2all@cuda-12 &> /dev/null\n",
        "pip install -q py3Dmol gdown mrcfile &> /dev/null"
      ]
    },
    {
      "cell_type": "code",
      "execution_count": 2,
      "metadata": {
        "id": "BaywXyY50z7O",
        "colab": {
          "base_uri": "https://localhost:8080/"
        },
        "outputId": "29db7e95-039f-4d22-abd8-7a0ce3dd8c8a"
      },
      "outputs": [
        {
          "output_type": "stream",
          "name": "stderr",
          "text": [
            "DGL backend not selected or invalid.  Assuming PyTorch for now.\n"
          ]
        },
        {
          "output_type": "stream",
          "name": "stdout",
          "text": [
            "Setting the default backend to \"pytorch\". You can change it in the ~/.dgl/config.json file or export the DGLBACKEND environment variable.  Valid options are: pytorch, mxnet, tensorflow (all lowercase)\n",
            "Downloading from Google Drive ... /usr/local/lib/python3.11/dist-packages/cg2all/model/CalphaBasedModel.ckpt\n",
            "Downloading from Google Drive ... /usr/local/lib/python3.11/dist-packages/cg2all/model/ResidueBasedModel.ckpt\n",
            "Downloading from Google Drive ... /usr/local/lib/python3.11/dist-packages/cg2all/model/SidechainModel.ckpt\n",
            "Downloading from Google Drive ... /usr/local/lib/python3.11/dist-packages/cg2all/model/CalphaCMModel.ckpt\n",
            "Downloading from Google Drive ... /usr/local/lib/python3.11/dist-packages/cg2all/model/CalphaSCModel.ckpt\n",
            "Downloading from Google Drive ... /usr/local/lib/python3.11/dist-packages/cg2all/model/BackboneModel.ckpt\n",
            "Downloading from Google Drive ... /usr/local/lib/python3.11/dist-packages/cg2all/model/MainchainModel.ckpt\n",
            "Downloading from Google Drive ... /usr/local/lib/python3.11/dist-packages/cg2all/model/Martini.ckpt\n",
            "Downloading from Google Drive ... /usr/local/lib/python3.11/dist-packages/cg2all/model/Martini3.ckpt\n",
            "Downloading from Google Drive ... /usr/local/lib/python3.11/dist-packages/cg2all/model/PRIMO.ckpt\n"
          ]
        }
      ],
      "source": [
        "#@title Download model checkpoint files (optional, takes <1 minute)\n",
        "#@markdown This step downloads all PyTorch model checkpoint files. If you did not run this step and a necessary checkpoint file is missing, then the script will download it automatically.\n",
        "\n",
        "import cg2all.lib.libmodel\n",
        "from cg2all.lib.libconfig import MODEL_HOME\n",
        "\n",
        "for model_type in [\"CalphaBasedModel\", \"ResidueBasedModel\", \"SidechainModel\", \"CalphaCMModel\", \"CalphaSCModel\", \"BackboneModel\", \"MainchainModel\", \"Martini\", \"Martini3\", \"PRIMO\"]:\n",
        "    ckpt_fn = MODEL_HOME / f\"{model_type}.ckpt\"\n",
        "    if not ckpt_fn.exists():\n",
        "        cg2all.lib.libmodel.download_ckpt_file(model_type, ckpt_fn)\n"
      ]
    },
    {
      "cell_type": "code",
      "execution_count": 3,
      "metadata": {
        "id": "2izhOiEl_LZz"
      },
      "outputs": [],
      "source": [
        "#@title Set up py3Dmol for structure display\n",
        "\n",
        "import py3Dmol\n",
        "\n",
        "def display(pdb_fn, representation=\"cartoon\", is_traj=False):\n",
        "    view = py3Dmol.view(js='https://3dmol.org/build/3Dmol.js')\n",
        "    if is_traj:\n",
        "        view.addModelsAsFrames(open(pdb_fn,'r').read(),'pdb')\n",
        "    else:\n",
        "        view.addModel(open(pdb_fn,'r').read(),'pdb')\n",
        "\n",
        "    if representation == \"cartoon\":\n",
        "        view.setStyle({'cartoon': {'color':'spectrum'}})\n",
        "        #\n",
        "        view.addStyle({'and':[{'resn':[\"GLY\",\"PRO\"],'invert':True},{'atom': [\"N\", \"C\", \"O\"],'invert':True}]},\n",
        "                        {'stick':{'colorscheme':\"WhiteCarbon\",'radius':0.3}})\n",
        "        view.addStyle({'and':[{'resn':\"GLY\"},{'atom':'CA'}]},\n",
        "                        {'sphere':{'colorscheme':\"WhiteCarbon\",'radius':0.3}})\n",
        "        view.addStyle({'and':[{'resn':\"PRO\"},{'atom':['C','O'],'invert':True}]},\n",
        "                        {'stick':{'colorscheme':\"WhiteCarbon\",'radius':0.3}})\n",
        "\n",
        "    elif representation == \"ball+stick\":\n",
        "        view.setStyle({\"sphere\": {\"color\": \"spectrum\", \"radius\": 1.0}})\n",
        "\n",
        "    else:\n",
        "        raise NotImplementedError(representation)\n",
        "\n",
        "    view.zoomTo()\n",
        "    if is_traj:\n",
        "        view.animate({'loop': 'forward', \"interval\": 500})\n",
        "\n",
        "    return view"
      ]
    },
    {
      "cell_type": "markdown",
      "metadata": {
        "id": "8B3PrhVv2XjL"
      },
      "source": [
        "---"
      ]
    },
    {
      "cell_type": "code",
      "execution_count": null,
      "metadata": {
        "cellView": "form",
        "id": "ZdOjX1AMX7G5"
      },
      "outputs": [],
      "source": [
        "#@title Task 1: Conversion of an all-atom structure to a CG model using __convert_all2cg__\n",
        "\n",
        "# upload a PDB file\n",
        "import requests\n",
        "from google.colab import files\n",
        "\n",
        "coarse_grained_model_type = \"Martini3\" #@param [\"CalphaBasedModel\", \"ResidueBasedModel\", \"SidechainModel\", \"CalphaCMModel\", \"CalphaSCModel\", \"BackboneModel\", \"MainchainModel\", \"Martini\", \"Martini3\", \"PRIMO\"]\n",
        "\n",
        "use_example = True #@param {type:\"boolean\"}\n",
        "#@markdown - An example input PDB file will be downloaded from [our repository](https://github.com/huhlim/cg2all/tree/main/tests).\n",
        "\n",
        "if use_example:\n",
        "    url = \"https://raw.githubusercontent.com/huhlim/cg2all/main/tests/1ab1_A.pdb\"\n",
        "    input_pdb = url.split(\"/\")[-1]\n",
        "    with open(input_pdb, \"wt\") as fout:\n",
        "        fout.write(requests.get(url).text)\n",
        "else:\n",
        "    input_pdb = files.upload()\n",
        "    input_pdb = list(input_pdb)[0]\n",
        "\n",
        "# convert\n",
        "import pathlib\n",
        "output_pdb = pathlib.Path(input_pdb).stem + f\".{coarse_grained_model_type}.pdb\"\n",
        "\n",
        "!convert_all2cg -p $input_pdb -o $output_pdb --cg $coarse_grained_model_type\n",
        "print(f\"Converted {input_pdb} to {output_pdb} in {coarse_grained_model_type}\")\n",
        "\n",
        "display(output_pdb, representation=\"ball+stick\").show()"
      ]
    },
    {
      "cell_type": "code",
      "execution_count": null,
      "metadata": {
        "cellView": "form",
        "id": "bT6wD7fOc8hz"
      },
      "outputs": [],
      "source": [
        "#@title Download the converted file\n",
        "files.download(output_pdb)"
      ]
    },
    {
      "cell_type": "markdown",
      "metadata": {
        "id": "JC-tfBj7c-Oh"
      },
      "source": [
        "---"
      ]
    },
    {
      "cell_type": "code",
      "execution_count": 6,
      "metadata": {
        "id": "NKt4ZMqn6W85",
        "colab": {
          "base_uri": "https://localhost:8080/",
          "height": 412
        },
        "outputId": "7bf06bbb-9489-4827-c62b-6c66253cf07a"
      },
      "outputs": [
        {
          "output_type": "error",
          "ename": "ModuleNotFoundError",
          "evalue": "No module named 'Bio'",
          "traceback": [
            "\u001b[0;31m---------------------------------------------------------------------------\u001b[0m",
            "\u001b[0;31mModuleNotFoundError\u001b[0m                       Traceback (most recent call last)",
            "\u001b[0;32m<ipython-input-6-98398b64fda6>\u001b[0m in \u001b[0;36m<cell line: 0>\u001b[0;34m()\u001b[0m\n\u001b[1;32m      7\u001b[0m \u001b[0;32mimport\u001b[0m \u001b[0msubprocess\u001b[0m\u001b[0;34m\u001b[0m\u001b[0;34m\u001b[0m\u001b[0m\n\u001b[1;32m      8\u001b[0m \u001b[0;32mimport\u001b[0m \u001b[0mtempfile\u001b[0m\u001b[0;34m\u001b[0m\u001b[0;34m\u001b[0m\u001b[0m\n\u001b[0;32m----> 9\u001b[0;31m \u001b[0;32mfrom\u001b[0m \u001b[0mBio\u001b[0m\u001b[0;34m.\u001b[0m\u001b[0mPDB\u001b[0m \u001b[0;32mimport\u001b[0m \u001b[0mPDBParser\u001b[0m\u001b[0;34m,\u001b[0m \u001b[0mPDBIO\u001b[0m\u001b[0;34m\u001b[0m\u001b[0;34m\u001b[0m\u001b[0m\n\u001b[0m\u001b[1;32m     10\u001b[0m \u001b[0;34m\u001b[0m\u001b[0m\n\u001b[1;32m     11\u001b[0m \u001b[0mcoarse_grained_model_type\u001b[0m \u001b[0;34m=\u001b[0m \u001b[0;34m\"CalphaBasedModel\"\u001b[0m \u001b[0;31m#@param [\"CalphaBasedModel\", \"ResidueBasedModel\", \"SidechainModel\", \"CalphaCMModel\", \"CalphaSCModel\", \"BackboneModel\", \"MainchainModel\", \"Martini\", \"Martini3\", \"PRIMO\"]\u001b[0m\u001b[0;34m\u001b[0m\u001b[0;34m\u001b[0m\u001b[0m\n",
            "\u001b[0;31mModuleNotFoundError\u001b[0m: No module named 'Bio'",
            "",
            "\u001b[0;31m---------------------------------------------------------------------------\u001b[0;32m\nNOTE: If your import is failing due to a missing package, you can\nmanually install dependencies using either !pip or !apt.\n\nTo view examples of installing some common dependencies, click the\n\"Open Examples\" button below.\n\u001b[0;31m---------------------------------------------------------------------------\u001b[0m\n"
          ],
          "errorDetails": {
            "actions": [
              {
                "action": "open_url",
                "actionText": "Open Examples",
                "url": "/notebooks/snippets/importing_libraries.ipynb"
              }
            ]
          }
        }
      ],
      "source": [
        "#@title Task 2: Conversion of a CG model to an all-atom structure using __convert_cg2all__\n",
        "\n",
        "!pip install biopython\n",
        "# upload a PDB file\n",
        "import requests\n",
        "from google.colab import files\n",
        "import pathlib\n",
        "import subprocess\n",
        "import tempfile\n",
        "from Bio.PDB import PDBParser, PDBIO\n",
        "\n",
        "coarse_grained_model_type = \"CalphaBasedModel\" #@param [\"CalphaBasedModel\", \"ResidueBasedModel\", \"SidechainModel\", \"CalphaCMModel\", \"CalphaSCModel\", \"BackboneModel\", \"MainchainModel\", \"Martini\", \"Martini3\", \"PRIMO\"]\n",
        "\n",
        "use_example = False #@param {type:\"boolean\"}\n",
        "#@markdown - An example input PDB file will be downloaded from [our repository](https://github.com/huhlim/cg2all/tree/main/tests).\n",
        "\n",
        "def split_models(pdb_file):\n",
        "    parser = PDBParser(QUIET=True)\n",
        "    structure = parser.get_structure('input', pdb_file)\n",
        "    temp_files = []\n",
        "\n",
        "    for model in structure:\n",
        "        temp_pdb = tempfile.NamedTemporaryFile(delete=False, suffix=\".pdb\")\n",
        "        temp_io = PDBIO()\n",
        "        temp_io.set_structure(model)\n",
        "        temp_io.save(temp_pdb.name)\n",
        "        temp_files.append(temp_pdb.name)\n",
        "\n",
        "    return temp_files\n",
        "\n",
        "if use_example:\n",
        "    url = {\"CalphaBasedModel\": \"https://raw.githubusercontent.com/huhlim/cg2all/main/tests/1ab1_A.calpha.pdb\", \\\n",
        "           \"ResidueBasedModel\": \"https://raw.githubusercontent.com/huhlim/cg2all/main/tests/1ab1_A.residue.pdb\", \\\n",
        "           \"SidechainModel\": \"https://raw.githubusercontent.com/huhlim/cg2all/main/tests/1ab1_A.sc.pdb\", \\\n",
        "           \"CalphaCMModel\": \"https://raw.githubusercontent.com/huhlim/cg2all/main/tests/1ab1_A.cacm.pdb\", \\\n",
        "           \"CalphaSCModel\": \"https://raw.githubusercontent.com/huhlim/cg2all/main/tests/1ab1_A.casc.pdb\", \\\n",
        "           \"BackboneModel\": \"https://raw.githubusercontent.com/huhlim/cg2all/main/tests/1ab1_A.bb.pdb\", \\\n",
        "           \"MainchainModel\": \"https://raw.githubusercontent.com/huhlim/cg2all/main/tests/1ab1_A.mc.pdb\", \\\n",
        "           \"Martini\": \"https://raw.githubusercontent.com/huhlim/cg2all/main/tests/1ab1_A.martini.pdb\", \\\n",
        "           \"Martini3\": \"https://raw.githubusercontent.com/huhlim/cg2all/main/tests/1ab1_A.martini3.pdb\", \\\n",
        "           \"PRIMO\": \"https://raw.githubusercontent.com/huhlim/cg2all/main/tests/1ab1_A.primo.pdb\"}\n",
        "    url = url[coarse_grained_model_type]\n",
        "    input_pdb = url.split(\"/\")[-1]\n",
        "    with open(input_pdb, \"wt\") as fout:\n",
        "        fout.write(requests.get(url).text)\n",
        "else:\n",
        "    input_pdb = files.upload()\n",
        "    input_pdb = list(input_pdb)[0]\n",
        "\n",
        "model_pdbs = split_models(input_pdb)\n",
        "output_files = []\n",
        "for model_pdb in model_pdbs:\n",
        "    output_pdb = pathlib.Path(model_pdb).stem + \".all.pdb\"\n",
        "    subprocess.run([\n",
        "        \"convert_cg2all\",\n",
        "        \"-p\", model_pdb,\n",
        "        \"-o\", output_pdb,\n",
        "        \"--cg\", coarse_grained_model_type\n",
        "    ], check=True)\n",
        "    output_files.append(output_pdb)\n",
        "\n",
        "# convert\n",
        "\n",
        "# 合并结果\n",
        "final_output = pathlib.Path(input_pdb).stem + \"_multi.all.pdb\"\n",
        "with open(final_output, 'w') as outfile:\n",
        "    for i, pdb in enumerate(output_files):\n",
        "        with open(pdb) as infile:\n",
        "            outfile.write(f\"MODEL        {i+1}\\n\")\n",
        "            outfile.write(infile.read())\n",
        "            outfile.write(\"ENDMDL\\n\")\n",
        "\n",
        "# 清理临时文件\n",
        "for f in model_pdbs + output_files:\n",
        "    pathlib.Path(f).unlink()\n",
        "\n",
        "print(f\"Converted {input_pdb} in {coarse_grained_model_type} to {output_pdb}\")\n",
        "\n",
        "display(output_pdb, representation=\"cartoon\").show()"
      ]
    },
    {
      "cell_type": "code",
      "execution_count": 5,
      "metadata": {
        "id": "qKtrbblH-29X",
        "colab": {
          "base_uri": "https://localhost:8080/",
          "height": 17
        },
        "outputId": "f9765bcd-bd19-477f-9168-1996d1029e99"
      },
      "outputs": [
        {
          "output_type": "display_data",
          "data": {
            "text/plain": [
              "<IPython.core.display.Javascript object>"
            ],
            "application/javascript": [
              "\n",
              "    async function download(id, filename, size) {\n",
              "      if (!google.colab.kernel.accessAllowed) {\n",
              "        return;\n",
              "      }\n",
              "      const div = document.createElement('div');\n",
              "      const label = document.createElement('label');\n",
              "      label.textContent = `Downloading \"${filename}\": `;\n",
              "      div.appendChild(label);\n",
              "      const progress = document.createElement('progress');\n",
              "      progress.max = size;\n",
              "      div.appendChild(progress);\n",
              "      document.body.appendChild(div);\n",
              "\n",
              "      const buffers = [];\n",
              "      let downloaded = 0;\n",
              "\n",
              "      const channel = await google.colab.kernel.comms.open(id);\n",
              "      // Send a message to notify the kernel that we're ready.\n",
              "      channel.send({})\n",
              "\n",
              "      for await (const message of channel.messages) {\n",
              "        // Send a message to notify the kernel that we're ready.\n",
              "        channel.send({})\n",
              "        if (message.buffers) {\n",
              "          for (const buffer of message.buffers) {\n",
              "            buffers.push(buffer);\n",
              "            downloaded += buffer.byteLength;\n",
              "            progress.value = downloaded;\n",
              "          }\n",
              "        }\n",
              "      }\n",
              "      const blob = new Blob(buffers, {type: 'application/binary'});\n",
              "      const a = document.createElement('a');\n",
              "      a.href = window.URL.createObjectURL(blob);\n",
              "      a.download = filename;\n",
              "      div.appendChild(a);\n",
              "      a.click();\n",
              "      div.remove();\n",
              "    }\n",
              "  "
            ]
          },
          "metadata": {}
        },
        {
          "output_type": "display_data",
          "data": {
            "text/plain": [
              "<IPython.core.display.Javascript object>"
            ],
            "application/javascript": [
              "download(\"download_a468bde1-782c-4ce2-b87a-a98bcde95cc4\", \"PED00082_e001_ensemble.all.pdb\", 80082)"
            ]
          },
          "metadata": {}
        }
      ],
      "source": [
        "#@title Download the converted file\n",
        "files.download(output_pdb)"
      ]
    },
    {
      "cell_type": "markdown",
      "metadata": {
        "id": "G0m80ahGdAev"
      },
      "source": [
        "---"
      ]
    },
    {
      "cell_type": "code",
      "execution_count": null,
      "metadata": {
        "cellView": "form",
        "id": "u4e5NhxndAQ8"
      },
      "outputs": [],
      "source": [
        "#@title Task 3: Conversion of a CG simulation trajectory to an atomistic simulation trajectory using __convert_cg2all__\n",
        "#@markdown Input trajectory file should be in the DCD format.\n",
        "\n",
        "# upload a PDB file\n",
        "import requests\n",
        "from google.colab import files\n",
        "\n",
        "coarse_grained_model_type = \"CalphaBasedModel\" #@param [\"CalphaBasedModel\", \"ResidueBasedModel\", \"SidechainModel\", \"CalphaCMModel\", \"CalphaSCModel\", \"BackboneModel\", \"MainchainModel\", \"Martini\", \"Martini3\", \"PRIMO\"]\n",
        "\n",
        "use_example = True #@param {type:\"boolean\"}\n",
        "#@markdown - An example input PDB and DCD files will be downloaded from [our repository](https://github.com/huhlim/cg2all/tree/main/tests).\n",
        "\n",
        "if use_example:\n",
        "    if coarse_grained_model_type != \"CalphaBasedModel\":\n",
        "        print(\"The example is based on CalphaBasedModel.\")\n",
        "        coarse_grained_model_type = \"CalphaBasedModel\"\n",
        "    #\n",
        "    url = \"https://raw.githubusercontent.com/huhlim/cg2all/main/tests/1jni.calpha.pdb\"\n",
        "    input_pdb = url.split(\"/\")[-1]\n",
        "    with open(input_pdb, \"wt\") as fout:\n",
        "        fout.write(requests.get(url).text)\n",
        "    #\n",
        "    url = \"https://raw.githubusercontent.com/huhlim/cg2all/main/tests/1jni.calpha.dcd\"\n",
        "    input_dcd = url.split(\"/\")[-1]\n",
        "    with open(input_dcd, \"wb\") as fout:\n",
        "        fout.write(requests.get(url).content)\n",
        "\n",
        "else:\n",
        "    input_pdb = files.upload()\n",
        "    input_pdb = list(input_pdb)[0]\n",
        "    input_dcd = files.upload()\n",
        "    input_dcd = list(input_dcd)[0]\n",
        "\n",
        "batch_size = 1 #@param {type: \"number\"}\n",
        "#@markdown - Batch size should be a divisor of the total number of frames. The example trajectory file has five frames.\n",
        "\n",
        "# convert\n",
        "import pathlib\n",
        "output_dcd = pathlib.Path(input_dcd).stem + \".all.dcd\"\n",
        "output_pdb = pathlib.Path(input_pdb).stem + \".all.pdb\"\n",
        "\n",
        "!convert_cg2all -p $input_pdb --dcd $input_dcd -o $output_dcd -opdb $output_pdb --cg $coarse_grained_model_type --batch $batch_size\n",
        "print(f\"Converted {input_dcd} in {coarse_grained_model_type} to {output_dcd}\")\n",
        "\n",
        "import mdtraj\n",
        "pdb = mdtraj.load(input_pdb)\n",
        "traj = mdtraj.load(output_dcd, top=output_pdb)\n",
        "if len(traj) > 20:\n",
        "    print(\"Displaying first 20 frames\")\n",
        "    traj = traj[:20]\n",
        "traj = traj.superpose(traj)\n",
        "traj.save(\"display.pdb\")\n",
        "#\n",
        "display(\"display.pdb\", representation=\"cartoon\", is_traj=True).show()\n",
        "#print(\"Displaying the last frame\")\n",
        "#display(output_pdb, representation=\"cartoon\").show()"
      ]
    },
    {
      "cell_type": "code",
      "execution_count": null,
      "metadata": {
        "cellView": "form",
        "id": "Fc3MtzNU5kCa"
      },
      "outputs": [],
      "source": [
        "#@title Download the converted file\n",
        "files.download(output_pdb)\n",
        "files.download(output_dcd)"
      ]
    }
  ],
  "metadata": {
    "colab": {
      "provenance": [],
      "gpuType": "T4",
      "include_colab_link": true
    },
    "kernelspec": {
      "display_name": "Python 3",
      "name": "python3"
    },
    "language_info": {
      "name": "python"
    },
    "accelerator": "GPU"
  },
  "nbformat": 4,
  "nbformat_minor": 0
}