{
  "cells": [
    {
      "cell_type": "markdown",
      "metadata": {
        "id": "view-in-github",
        "colab_type": "text"
      },
      "source": [
        "<a href=\"https://colab.research.google.com/github/yuminshen/cs61a-2024/blob/main/cg2all.ipynb\" target=\"_parent\"><img src=\"https://colab.research.google.com/assets/colab-badge.svg\" alt=\"Open In Colab\"/></a>"
      ]
    },
    {
      "cell_type": "markdown",
      "metadata": {
        "id": "FBOi_bUBW5dR"
      },
      "source": [
        "\n",
        "# List of tasks\n",
        "- Task 1: Conversion of an all-atom structure to a CG model using __convert_all2cg__\n",
        "- Task 2: Conversion of a CG model to an all-atom structure using __convert_cg2all__\n",
        "- Task 3: Conversion of a CG simulation trajectory to an atomistic simulation trajectory using __convert_cg2all__\n",
        "\n",
        "# Supported coarse-grained models\n",
        "- CalphaBasedModel: C$\\alpha$-trace (atom names should be \"CA\")\n",
        "- ResidueBasedModel: Residue center-of-mass (atom names should be \"CA\")\n",
        "- SidechainModel: A bead at the sidechain center-of-mass (atom names should be \"SC\")\n",
        "- CalphaCMModel: C$\\alpha$-trace + Residue center-of-mass (atom names should be \"CA\" and \"CM\")\n",
        "- CalphaSCModel: C$\\alpha$-trace + Sidechain center-of-mass (atom names should be \"CA\" and \"SC\")\n",
        "- BackboneModel: Model only with backbone atoms (N, CA, C)\n",
        "- MainchainModel: Model only with mainchain atoms (N, CA, C, O)\n",
        "- Martini: [Martini](http://cgmartini.nl/) model\n",
        "- Martini3: [Martini3](http://www.cgmartini.nl/index.php/martini-3-0) model\n",
        "- PRIMO: [PRIMO](http://dx.doi.org/10.1002/prot.22645) model\n",
        "---"
      ]
    },
    {
      "cell_type": "code",
      "execution_count": 1,
      "metadata": {
        "id": "pmJA_J_IlU7s",
        "colab": {
          "base_uri": "https://localhost:8080/"
        },
        "outputId": "0a779b91-58cf-47ad-8330-c1f1ab66085b"
      },
      "outputs": [
        {
          "output_type": "stream",
          "name": "stdout",
          "text": [
            "This notebook is running on a GPU runtime.\n"
          ]
        }
      ],
      "source": [
        "#@title Install cg2all package (takes 4-5 minutes)\n",
        "%%bash\n",
        "\n",
        "gpu_available=$(nvidia-smi | grep \"CUDA Version\" | wc -l)\n",
        "if [[ $gpu_available == 1 ]]; then\n",
        "    echo \"This notebook is running on a GPU runtime.\"\n",
        "    pip install  dgl -f https://data.dgl.ai/wheels/torch-2.3/cu121/repo.html &> /dev/null\n",
        "    #pip install dgl -f https://data.dgl.ai/wheels/cu116/repo.html &> /dev/null\n",
        "else\n",
        "    echo \"This notebook is running on a CPU runtime.\"\n",
        "fi\n",
        "\n",
        "pip install -q git+http://github.com/huhlim/cg2all@cuda-12 &> /dev/null\n",
        "pip install -q py3Dmol gdown mrcfile &> /dev/null"
      ]
    },
    {
      "cell_type": "code",
      "execution_count": 2,
      "metadata": {
        "id": "BaywXyY50z7O",
        "colab": {
          "base_uri": "https://localhost:8080/"
        },
        "outputId": "d73efb94-8c03-458c-fdb7-c42d6694418b"
      },
      "outputs": [
        {
          "output_type": "stream",
          "name": "stderr",
          "text": [
            "DGL backend not selected or invalid.  Assuming PyTorch for now.\n"
          ]
        },
        {
          "output_type": "stream",
          "name": "stdout",
          "text": [
            "Setting the default backend to \"pytorch\". You can change it in the ~/.dgl/config.json file or export the DGLBACKEND environment variable.  Valid options are: pytorch, mxnet, tensorflow (all lowercase)\n",
            "Downloading from Google Drive ... /usr/local/lib/python3.11/dist-packages/cg2all/model/CalphaBasedModel.ckpt\n",
            "Downloading from Google Drive ... /usr/local/lib/python3.11/dist-packages/cg2all/model/ResidueBasedModel.ckpt\n",
            "Downloading from Google Drive ... /usr/local/lib/python3.11/dist-packages/cg2all/model/SidechainModel.ckpt\n",
            "Downloading from Google Drive ... /usr/local/lib/python3.11/dist-packages/cg2all/model/CalphaCMModel.ckpt\n",
            "Downloading from Google Drive ... /usr/local/lib/python3.11/dist-packages/cg2all/model/CalphaSCModel.ckpt\n",
            "Downloading from Google Drive ... /usr/local/lib/python3.11/dist-packages/cg2all/model/BackboneModel.ckpt\n",
            "Downloading from Google Drive ... /usr/local/lib/python3.11/dist-packages/cg2all/model/MainchainModel.ckpt\n",
            "Downloading from Google Drive ... /usr/local/lib/python3.11/dist-packages/cg2all/model/Martini.ckpt\n",
            "Downloading from Google Drive ... /usr/local/lib/python3.11/dist-packages/cg2all/model/Martini3.ckpt\n",
            "Downloading from Google Drive ... /usr/local/lib/python3.11/dist-packages/cg2all/model/PRIMO.ckpt\n"
          ]
        }
      ],
      "source": [
        "#@title Download model checkpoint files (optional, takes <1 minute)\n",
        "#@markdown This step downloads all PyTorch model checkpoint files. If you did not run this step and a necessary checkpoint file is missing, then the script will download it automatically.\n",
        "\n",
        "import cg2all.lib.libmodel\n",
        "from cg2all.lib.libconfig import MODEL_HOME\n",
        "\n",
        "for model_type in [\"CalphaBasedModel\", \"ResidueBasedModel\", \"SidechainModel\", \"CalphaCMModel\", \"CalphaSCModel\", \"BackboneModel\", \"MainchainModel\", \"Martini\", \"Martini3\", \"PRIMO\"]:\n",
        "    ckpt_fn = MODEL_HOME / f\"{model_type}.ckpt\"\n",
        "    if not ckpt_fn.exists():\n",
        "        cg2all.lib.libmodel.download_ckpt_file(model_type, ckpt_fn)\n"
      ]
    },
    {
      "cell_type": "code",
      "execution_count": 3,
      "metadata": {
        "id": "2izhOiEl_LZz"
      },
      "outputs": [],
      "source": [
        "#@title Set up py3Dmol for structure display\n",
        "\n",
        "import py3Dmol\n",
        "\n",
        "def display(pdb_fn, representation=\"cartoon\", is_traj=False):\n",
        "    view = py3Dmol.view(js='https://3dmol.org/build/3Dmol.js')\n",
        "    if is_traj:\n",
        "        view.addModelsAsFrames(open(pdb_fn,'r').read(),'pdb')\n",
        "    else:\n",
        "        view.addModel(open(pdb_fn,'r').read(),'pdb')\n",
        "\n",
        "    if representation == \"cartoon\":\n",
        "        view.setStyle({'cartoon': {'color':'spectrum'}})\n",
        "        #\n",
        "        view.addStyle({'and':[{'resn':[\"GLY\",\"PRO\"],'invert':True},{'atom': [\"N\", \"C\", \"O\"],'invert':True}]},\n",
        "                        {'stick':{'colorscheme':\"WhiteCarbon\",'radius':0.3}})\n",
        "        view.addStyle({'and':[{'resn':\"GLY\"},{'atom':'CA'}]},\n",
        "                        {'sphere':{'colorscheme':\"WhiteCarbon\",'radius':0.3}})\n",
        "        view.addStyle({'and':[{'resn':\"PRO\"},{'atom':['C','O'],'invert':True}]},\n",
        "                        {'stick':{'colorscheme':\"WhiteCarbon\",'radius':0.3}})\n",
        "\n",
        "    elif representation == \"ball+stick\":\n",
        "        view.setStyle({\"sphere\": {\"color\": \"spectrum\", \"radius\": 1.0}})\n",
        "\n",
        "    else:\n",
        "        raise NotImplementedError(representation)\n",
        "\n",
        "    view.zoomTo()\n",
        "    if is_traj:\n",
        "        view.animate({'loop': 'forward', \"interval\": 500})\n",
        "\n",
        "    return view"
      ]
    },
    {
      "cell_type": "markdown",
      "metadata": {
        "id": "8B3PrhVv2XjL"
      },
      "source": [
        "---"
      ]
    },
    {
      "cell_type": "code",
      "execution_count": null,
      "metadata": {
        "cellView": "form",
        "id": "ZdOjX1AMX7G5"
      },
      "outputs": [],
      "source": [
        "#@title Task 1: Conversion of an all-atom structure to a CG model using __convert_all2cg__\n",
        "\n",
        "# upload a PDB file\n",
        "import requests\n",
        "from google.colab import files\n",
        "\n",
        "coarse_grained_model_type = \"Martini3\" #@param [\"CalphaBasedModel\", \"ResidueBasedModel\", \"SidechainModel\", \"CalphaCMModel\", \"CalphaSCModel\", \"BackboneModel\", \"MainchainModel\", \"Martini\", \"Martini3\", \"PRIMO\"]\n",
        "\n",
        "use_example = True #@param {type:\"boolean\"}\n",
        "#@markdown - An example input PDB file will be downloaded from [our repository](https://github.com/huhlim/cg2all/tree/main/tests).\n",
        "\n",
        "if use_example:\n",
        "    url = \"https://raw.githubusercontent.com/huhlim/cg2all/main/tests/1ab1_A.pdb\"\n",
        "    input_pdb = url.split(\"/\")[-1]\n",
        "    with open(input_pdb, \"wt\") as fout:\n",
        "        fout.write(requests.get(url).text)\n",
        "else:\n",
        "    input_pdb = files.upload()\n",
        "    input_pdb = list(input_pdb)[0]\n",
        "\n",
        "# convert\n",
        "import pathlib\n",
        "output_pdb = pathlib.Path(input_pdb).stem + f\".{coarse_grained_model_type}.pdb\"\n",
        "\n",
        "!convert_all2cg -p $input_pdb -o $output_pdb --cg $coarse_grained_model_type\n",
        "print(f\"Converted {input_pdb} to {output_pdb} in {coarse_grained_model_type}\")\n",
        "\n",
        "display(output_pdb, representation=\"ball+stick\").show()"
      ]
    },
    {
      "cell_type": "code",
      "execution_count": null,
      "metadata": {
        "cellView": "form",
        "id": "bT6wD7fOc8hz"
      },
      "outputs": [],
      "source": [
        "#@title Download the converted file\n",
        "files.download(output_pdb)"
      ]
    },
    {
      "cell_type": "markdown",
      "metadata": {
        "id": "JC-tfBj7c-Oh"
      },
      "source": [
        "---"
      ]
    },
    {
      "cell_type": "code",
      "execution_count": 4,
      "metadata": {
        "id": "NKt4ZMqn6W85",
        "colab": {
          "base_uri": "https://localhost:8080/",
          "height": 341
        },
        "outputId": "62e06df5-04e7-4dcd-c057-551066cdacde"
      },
      "outputs": [
        {
          "output_type": "stream",
          "name": "stdout",
          "text": [
            "Collecting biopython\n",
            "  Downloading biopython-1.85-cp311-cp311-manylinux_2_17_x86_64.manylinux2014_x86_64.whl.metadata (13 kB)\n",
            "Requirement already satisfied: numpy in /usr/local/lib/python3.11/dist-packages (from biopython) (1.26.4)\n",
            "Downloading biopython-1.85-cp311-cp311-manylinux_2_17_x86_64.manylinux2014_x86_64.whl (3.3 MB)\n",
            "\u001b[?25l   \u001b[90m━━━━━━━━━━━━━━━━━━━━━━━━━━━━━━━━━━━━━━━━\u001b[0m \u001b[32m0.0/3.3 MB\u001b[0m \u001b[31m?\u001b[0m eta \u001b[36m-:--:--\u001b[0m\r\u001b[2K   \u001b[91m━━━━━━━\u001b[0m\u001b[90m╺\u001b[0m\u001b[90m━━━━━━━━━━━━━━━━━━━━━━━━━━━━━━━━\u001b[0m \u001b[32m0.6/3.3 MB\u001b[0m \u001b[31m18.7 MB/s\u001b[0m eta \u001b[36m0:00:01\u001b[0m\r\u001b[2K   \u001b[91m━━━━━━━━━━━━━━━━━━━━━━━━━━━━━━━━━━━━━━━\u001b[0m\u001b[91m╸\u001b[0m \u001b[32m3.3/3.3 MB\u001b[0m \u001b[31m60.8 MB/s\u001b[0m eta \u001b[36m0:00:01\u001b[0m\r\u001b[2K   \u001b[90m━━━━━━━━━━━━━━━━━━━━━━━━━━━━━━━━━━━━━━━━\u001b[0m \u001b[32m3.3/3.3 MB\u001b[0m \u001b[31m44.9 MB/s\u001b[0m eta \u001b[36m0:00:00\u001b[0m\n",
            "\u001b[?25hInstalling collected packages: biopython\n",
            "Successfully installed biopython-1.85\n"
          ]
        },
        {
          "output_type": "error",
          "ename": "NameError",
          "evalue": "name 'os' is not defined",
          "traceback": [
            "\u001b[0;31m---------------------------------------------------------------------------\u001b[0m",
            "\u001b[0;31mNameError\u001b[0m                                 Traceback (most recent call last)",
            "\u001b[0;32m<ipython-input-4-161adbd0056a>\u001b[0m in \u001b[0;36m<cell line: 0>\u001b[0;34m()\u001b[0m\n\u001b[1;32m     47\u001b[0m     \u001b[0minput_folder\u001b[0m \u001b[0;34m=\u001b[0m \u001b[0;34m\"D:\\\\Tencent Files\\\\all_atom_pdb_2\\\\clustered_ensemble_inputs\"\u001b[0m\u001b[0;34m\u001b[0m\u001b[0;34m\u001b[0m\u001b[0m\n\u001b[1;32m     48\u001b[0m \u001b[0;34m\u001b[0m\u001b[0m\n\u001b[0;32m---> 49\u001b[0;31m \u001b[0mmodel_pdbs\u001b[0m \u001b[0;34m=\u001b[0m \u001b[0;34m[\u001b[0m\u001b[0mf\u001b[0m \u001b[0;32mfor\u001b[0m \u001b[0mf\u001b[0m \u001b[0;32min\u001b[0m \u001b[0mos\u001b[0m\u001b[0;34m.\u001b[0m\u001b[0mlistdir\u001b[0m\u001b[0;34m(\u001b[0m\u001b[0minput_folder\u001b[0m\u001b[0;34m)\u001b[0m \u001b[0;32mif\u001b[0m \u001b[0mf\u001b[0m\u001b[0;34m.\u001b[0m\u001b[0mendswith\u001b[0m\u001b[0;34m(\u001b[0m\u001b[0;34m\".pdb\"\u001b[0m\u001b[0;34m)\u001b[0m\u001b[0;34m]\u001b[0m\u001b[0;34m\u001b[0m\u001b[0;34m\u001b[0m\u001b[0m\n\u001b[0m\u001b[1;32m     50\u001b[0m \u001b[0moutput_files\u001b[0m \u001b[0;34m=\u001b[0m \u001b[0;34m[\u001b[0m\u001b[0;34m]\u001b[0m\u001b[0;34m\u001b[0m\u001b[0;34m\u001b[0m\u001b[0m\n\u001b[1;32m     51\u001b[0m \u001b[0;32mfor\u001b[0m \u001b[0mmodel_pdb\u001b[0m \u001b[0;32min\u001b[0m \u001b[0mmodel_pdbs\u001b[0m\u001b[0;34m:\u001b[0m\u001b[0;34m\u001b[0m\u001b[0;34m\u001b[0m\u001b[0m\n",
            "\u001b[0;31mNameError\u001b[0m: name 'os' is not defined"
          ]
        }
      ],
      "source": [
        "#@title Task 2: Conversion of a CG model to an all-atom structure using __convert_cg2all__\n",
        "\n",
        "!pip install biopython\n",
        "# upload a PDB file\n",
        "import os\n",
        "import requests\n",
        "from google.colab import files\n",
        "import pathlib\n",
        "import subprocess\n",
        "import tempfile\n",
        "from Bio.PDB import PDBParser, PDBIO\n",
        "\n",
        "coarse_grained_model_type = \"CalphaBasedModel\" #@param [\"CalphaBasedModel\", \"ResidueBasedModel\", \"SidechainModel\", \"CalphaCMModel\", \"CalphaSCModel\", \"BackboneModel\", \"MainchainModel\", \"Martini\", \"Martini3\", \"PRIMO\"]\n",
        "\n",
        "use_example = False #@param {type:\"boolean\"}\n",
        "#@markdown - An example input PDB file will be downloaded from [our repository](https://github.com/huhlim/cg2all/tree/main/tests).\n",
        "\n",
        "def split_models(pdb_file):\n",
        "    parser = PDBParser(QUIET=True)\n",
        "    structure = parser.get_structure('input', pdb_file)\n",
        "    temp_files = []\n",
        "\n",
        "    for model in structure:\n",
        "        temp_pdb = tempfile.NamedTemporaryFile(delete=False, suffix=\".pdb\")\n",
        "        temp_io = PDBIO()\n",
        "        temp_io.set_structure(model)\n",
        "        temp_io.save(temp_pdb.name)\n",
        "        temp_files.append(temp_pdb.name)\n",
        "\n",
        "    return temp_files\n",
        "\n",
        "if use_example:\n",
        "    url = {\"CalphaBasedModel\": \"https://raw.githubusercontent.com/huhlim/cg2all/main/tests/1ab1_A.calpha.pdb\", \\\n",
        "           \"ResidueBasedModel\": \"https://raw.githubusercontent.com/huhlim/cg2all/main/tests/1ab1_A.residue.pdb\", \\\n",
        "           \"SidechainModel\": \"https://raw.githubusercontent.com/huhlim/cg2all/main/tests/1ab1_A.sc.pdb\", \\\n",
        "           \"CalphaCMModel\": \"https://raw.githubusercontent.com/huhlim/cg2all/main/tests/1ab1_A.cacm.pdb\", \\\n",
        "           \"CalphaSCModel\": \"https://raw.githubusercontent.com/huhlim/cg2all/main/tests/1ab1_A.casc.pdb\", \\\n",
        "           \"BackboneModel\": \"https://raw.githubusercontent.com/huhlim/cg2all/main/tests/1ab1_A.bb.pdb\", \\\n",
        "           \"MainchainModel\": \"https://raw.githubusercontent.com/huhlim/cg2all/main/tests/1ab1_A.mc.pdb\", \\\n",
        "           \"Martini\": \"https://raw.githubusercontent.com/huhlim/cg2all/main/tests/1ab1_A.martini.pdb\", \\\n",
        "           \"Martini3\": \"https://raw.githubusercontent.com/huhlim/cg2all/main/tests/1ab1_A.martini3.pdb\", \\\n",
        "           \"PRIMO\": \"https://raw.githubusercontent.com/huhlim/cg2all/main/tests/1ab1_A.primo.pdb\"}\n",
        "    url = url[coarse_grained_model_type]\n",
        "    input_pdb = url.split(\"/\")[-1]\n",
        "    with open(input_pdb, \"wt\") as fout:\n",
        "        fout.write(requests.get(url).text)\n",
        "else:\n",
        "    input_folder = \"D:\\\\Tencent Files\\\\all_atom_pdb_2\\\\clustered_ensemble_inputs\"\n",
        "\n",
        "model_pdbs = [f for f in os.listdir(input_folder) if f.endswith(\".pdb\")]\n",
        "output_files = []\n",
        "for model_pdb in model_pdbs:\n",
        "    output_pdb = pathlib.Path(model_pdb).stem + \".all.pdb\"\n",
        "    subprocess.run([\n",
        "        \"convert_cg2all\",\n",
        "        \"-p\", model_pdb,\n",
        "        \"-o\", output_pdb,\n",
        "        \"--cg\", coarse_grained_model_type\n",
        "    ], check=True)\n",
        "    output_files.append(output_pdb)\n",
        "\n",
        "# convert\n",
        "\n",
        "# 合并结果\n",
        "final_output = pathlib.Path(input_pdb).stem + \"_multi.all.pdb\"\n",
        "with open(final_output, 'w') as outfile:\n",
        "    for i, pdb in enumerate(output_files):\n",
        "        with open(pdb) as infile:\n",
        "            outfile.write(f\"MODEL        {i+1}\\n\")\n",
        "            outfile.write(infile.read())\n",
        "            outfile.write(\"ENDMDL\\n\")\n",
        "\n",
        "print(f\"Converted {input_pdb} in {coarse_grained_model_type} to {final_output}\")\n",
        "\n",
        "display(output_pdb, representation=\"cartoon\").show()\n",
        "\n",
        "# 清理临时文件\n",
        "# for f in model_pdbs + output_files:\n",
        "#    pathlib.Path(f).unlink()"
      ]
    },
    {
      "cell_type": "code",
      "execution_count": null,
      "metadata": {
        "id": "qKtrbblH-29X"
      },
      "outputs": [],
      "source": [
        "#@title Download the converted file\n",
        "files.download(output_pdb)"
      ]
    },
    {
      "cell_type": "markdown",
      "metadata": {
        "id": "G0m80ahGdAev"
      },
      "source": [
        "---"
      ]
    },
    {
      "cell_type": "code",
      "execution_count": null,
      "metadata": {
        "cellView": "form",
        "id": "u4e5NhxndAQ8"
      },
      "outputs": [],
      "source": [
        "#@title Task 3: Conversion of a CG simulation trajectory to an atomistic simulation trajectory using __convert_cg2all__\n",
        "#@markdown Input trajectory file should be in the DCD format.\n",
        "\n",
        "# upload a PDB file\n",
        "import requests\n",
        "from google.colab import files\n",
        "\n",
        "coarse_grained_model_type = \"CalphaBasedModel\" #@param [\"CalphaBasedModel\", \"ResidueBasedModel\", \"SidechainModel\", \"CalphaCMModel\", \"CalphaSCModel\", \"BackboneModel\", \"MainchainModel\", \"Martini\", \"Martini3\", \"PRIMO\"]\n",
        "\n",
        "use_example = True #@param {type:\"boolean\"}\n",
        "#@markdown - An example input PDB and DCD files will be downloaded from [our repository](https://github.com/huhlim/cg2all/tree/main/tests).\n",
        "\n",
        "if use_example:\n",
        "    if coarse_grained_model_type != \"CalphaBasedModel\":\n",
        "        print(\"The example is based on CalphaBasedModel.\")\n",
        "        coarse_grained_model_type = \"CalphaBasedModel\"\n",
        "    #\n",
        "    url = \"https://raw.githubusercontent.com/huhlim/cg2all/main/tests/1jni.calpha.pdb\"\n",
        "    input_pdb = url.split(\"/\")[-1]\n",
        "    with open(input_pdb, \"wt\") as fout:\n",
        "        fout.write(requests.get(url).text)\n",
        "    #\n",
        "    url = \"https://raw.githubusercontent.com/huhlim/cg2all/main/tests/1jni.calpha.dcd\"\n",
        "    input_dcd = url.split(\"/\")[-1]\n",
        "    with open(input_dcd, \"wb\") as fout:\n",
        "        fout.write(requests.get(url).content)\n",
        "\n",
        "else:\n",
        "    input_pdb = files.upload()\n",
        "    input_pdb = list(input_pdb)[0]\n",
        "    input_dcd = files.upload()\n",
        "    input_dcd = list(input_dcd)[0]\n",
        "\n",
        "batch_size = 1 #@param {type: \"number\"}\n",
        "#@markdown - Batch size should be a divisor of the total number of frames. The example trajectory file has five frames.\n",
        "\n",
        "# convert\n",
        "import pathlib\n",
        "output_dcd = pathlib.Path(input_dcd).stem + \".all.dcd\"\n",
        "output_pdb = pathlib.Path(input_pdb).stem + \".all.pdb\"\n",
        "\n",
        "!convert_cg2all -p $input_pdb --dcd $input_dcd -o $output_dcd -opdb $output_pdb --cg $coarse_grained_model_type --batch $batch_size\n",
        "print(f\"Converted {input_dcd} in {coarse_grained_model_type} to {output_dcd}\")\n",
        "\n",
        "import mdtraj\n",
        "pdb = mdtraj.load(input_pdb)\n",
        "traj = mdtraj.load(output_dcd, top=output_pdb)\n",
        "if len(traj) > 20:\n",
        "    print(\"Displaying first 20 frames\")\n",
        "    traj = traj[:20]\n",
        "traj = traj.superpose(traj)\n",
        "traj.save(\"display.pdb\")\n",
        "#\n",
        "display(\"display.pdb\", representation=\"cartoon\", is_traj=True).show()\n",
        "#print(\"Displaying the last frame\")\n",
        "#display(output_pdb, representation=\"cartoon\").show()"
      ]
    },
    {
      "cell_type": "code",
      "execution_count": null,
      "metadata": {
        "cellView": "form",
        "id": "Fc3MtzNU5kCa"
      },
      "outputs": [],
      "source": [
        "#@title Download the converted file\n",
        "files.download(output_pdb)\n",
        "files.download(output_dcd)"
      ]
    }
  ],
  "metadata": {
    "colab": {
      "provenance": [],
      "gpuType": "T4",
      "include_colab_link": true
    },
    "kernelspec": {
      "display_name": "Python 3",
      "name": "python3"
    },
    "language_info": {
      "name": "python"
    },
    "accelerator": "GPU"
  },
  "nbformat": 4,
  "nbformat_minor": 0
}